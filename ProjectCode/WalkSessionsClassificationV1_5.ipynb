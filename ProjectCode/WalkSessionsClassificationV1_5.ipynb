{
 "cells": [
  {
   "cell_type": "code",
   "execution_count": 1,
   "metadata": {
    "_cell_guid": "b1076dfc-b9ad-4769-8c92-a6c4dae69d19",
    "_uuid": "8f2839f25d086af736a60e9eeb907d3b93b6e0e5",
    "id": "S9PURqbwkB3u"
   },
   "outputs": [],
   "source": [
    "#https://reasonabledeviations.com/2018/04/19/classifying-timeseries/\n",
    "#https://jpinjpblog.wordpress.com/2019/04/16/using-sklearns-sgdclassifier-with-partial_fit-and-generators-gridsearchcv/\n",
    "#https://www.kaggle.com/nsrose7224/sgdclassifier\n",
    "#https://progstat.com/Python/\n",
    "import numpy as np \n",
    "import pandas as pd \n",
    "import os\n",
    "import math\n",
    "from scipy.stats import pearsonr\n",
    "from sklearn import metrics\n",
    "\n",
    "import matplotlib.pyplot as plt\n",
    "%matplotlib inline\n",
    "\n",
    "import seaborn as sns\n",
    "import warnings\n",
    "warnings.filterwarnings('ignore')\n",
    "\n",
    "from sklearn.preprocessing import StandardScaler\n",
    "from sklearn.ensemble import RandomForestClassifier, AdaBoostClassifier, GradientBoostingClassifier, ExtraTreesClassifier, VotingClassifier\n",
    "from sklearn.discriminant_analysis import LinearDiscriminantAnalysis\n",
    "from sklearn.linear_model import LogisticRegression\n",
    "from sklearn.linear_model import SGDRegressor\n",
    "\n",
    "from sklearn.neighbors import KNeighborsClassifier\n",
    "from sklearn.tree import DecisionTreeClassifier\n",
    "from sklearn.neural_network import MLPClassifier\n",
    "from sklearn.svm import SVC\n",
    "from sklearn.model_selection import GridSearchCV, cross_val_score, StratifiedKFold, learning_curve, train_test_split\n",
    "from sklearn.linear_model import SGDClassifier # Stochastic Gradient Descent (SGD) for samples > 100K\n",
    "\n",
    "sns.set(style='ticks', context='talk')\n",
    "plt.style.use('dark_background')"
   ]
  },
  {
   "cell_type": "markdown",
   "metadata": {
    "id": "edPStDipkB3z"
   },
   "source": [
    "## Fonctions utiles"
   ]
  },
  {
   "cell_type": "code",
   "execution_count": 2,
   "metadata": {
    "id": "U9kSNb_akB31"
   },
   "outputs": [],
   "source": [
    "import itertools\n",
    "\n",
    "\n",
    "def plot_confusion_matrix(cm, classes,\n",
    "                          normalize=False,\n",
    "                          title='Confusion matrix',\n",
    "                          cmap=plt.cm.Blues):\n",
    "    \"\"\"\n",
    "    This function prints and plots the confusion matrix.\n",
    "    Normalization can be applied by setting `normalize=True`.\n",
    "    \"\"\"\n",
    "    plt.imshow(cm, interpolation='nearest', cmap=cmap)\n",
    "    plt.title(title)\n",
    "    plt.colorbar()\n",
    "    tick_marks = np.arange(len(classes))\n",
    "    plt.xticks(tick_marks, classes, rotation=45)\n",
    "    plt.yticks(tick_marks, classes)\n",
    "\n",
    "    if normalize:\n",
    "        cm = cm.astype('float') / cm.sum(axis=1)[:, np.newaxis]\n",
    "        print(\"Normalized confusion matrix\")\n",
    "    else:\n",
    "        print('Confusion matrix, without normalization')\n",
    "\n",
    "    print(cm)\n",
    "\n",
    "    thresh = cm.max() / 2.\n",
    "    for i, j in itertools.product(range(cm.shape[0]), range(cm.shape[1])):\n",
    "        plt.text(j, i, cm[i, j],\n",
    "                 horizontalalignment=\"center\",\n",
    "                 color=\"white\" if cm[i, j] > thresh else \"black\")\n",
    "\n",
    "    plt.tight_layout()\n",
    "    plt.ylabel('True label')\n",
    "    plt.xlabel('Predicted label')"
   ]
  },
  {
   "cell_type": "code",
   "execution_count": 45,
   "metadata": {},
   "outputs": [],
   "source": [
    "def generate_modulus_dataset(X, k):\n",
    "    out = np.abs(np.fft.fft(X)) # [:, :k])\n",
    "    print(f\"\"\"Forme: {out.shape}; type: {type(out)}\"\"\")\n",
    "    return out\n",
    "\n",
    "def generate_complex_dataset(X, k):\n",
    "    fourier = np.fft.fft(X) #[:, :k]\n",
    "    out = np.column_stack((fourier.real, fourier.imag))\n",
    "    print(f\"\"\"Forme: {out.shape}; type: {type(out)}\"\"\")\n",
    "    #out = pd.DataFrame(out,columns = [ \"Col\"+str(i) for i in range(out.shape[1])]) \n",
    "    return out"
   ]
  },
  {
   "cell_type": "markdown",
   "metadata": {
    "id": "zvjICRhSkB34"
   },
   "source": [
    "# Chargement du jeu de données"
   ]
  },
  {
   "cell_type": "raw",
   "metadata": {},
   "source": [
    "On traite l'ensemble de la série chronologique comme une période. Nous pouvons appliquer une transformation de Fourier discrète (DFT) pour extraire les principaux «signaux» d'une série chronologique. \n",
    "Une DFT peut être utilisée pour atténuer le bruit d'une série chronologique en ignorant les termes plus petits, et les coefficients des termes résultants peuvent être introduits dans un classificateur.\n",
    "Les résultats de la DFT sont des nombres complexes. Pour entrer les termes DFT dans un classificateur, nous allons prendre le module (np.abs) de chaque terme et l'utiliser comme caractéristique. \n",
    "Combien prendre de termes de la DFT ? Il est impossible de connaître a priori la quantité d’informations que contiennent les termes de Fourier, nous examinerons les 5, 15 et 30 premiers termes. \n",
    "Maintenant, afin d'éviter le biais d'exploration de données, nous allons appliquer une correction de Bonferroni. \n",
    "L'idée est que chaque test supplémentaire augmente nos chances de trouver une relation fausse mais statistiquement significative, donc pour contrer cela, le niveau de signification doit être réduit à αm , où m est le nombre de tests. Donc, si le niveau de signification d'origine était α = 0,05, la correction de Bonferroni impliquerait une nouvelle signification de α6 = 0,00833.\n"
   ]
  },
  {
   "cell_type": "raw",
   "metadata": {
    "colab": {
     "base_uri": "https://localhost:8080/"
    },
    "id": "L27u0BlckYaT",
    "outputId": "a93c0fb7-a544-4787-fb40-92eb8d0833b2"
   },
   "source": [
    "from google.colab import drive\n",
    "drive.mount('/content/drive')"
   ]
  },
  {
   "cell_type": "code",
   "execution_count": 4,
   "metadata": {
    "colab": {
     "base_uri": "https://localhost:8080/"
    },
    "id": "sQnoQrm4km0E",
    "outputId": "8cc3a3e3-36c1-4343-bd49-43f2fea9cdbb"
   },
   "outputs": [
    {
     "data": {
      "text/plain": [
       "['.ipynb_checkpoints',\n",
       " 'DataWalkFromTxtToPd.ipynb',\n",
       " 'plot.ipynb',\n",
       " 'SGD-Tuto.ipynb',\n",
       " 'tf_seg_new.ipynb',\n",
       " 'UCI_HAR_Dataset',\n",
       " 'WalkSessionsClassificationV1_5.ipynb',\n",
       " 'X_test.csv',\n",
       " 'X_train.csv',\n",
       " 'Y_test.csv',\n",
       " 'Y_train.csv']"
      ]
     },
     "execution_count": 4,
     "metadata": {},
     "output_type": "execute_result"
    }
   ],
   "source": [
    "path ='/content/drive/My Drive/TER'\n",
    "path = r\"\"\"C:\\Users\\tpailhas\\MIASHS\\TER\\Parkinson\\ProjectCode\"\"\"\n",
    "os.listdir(path)"
   ]
  },
  {
   "cell_type": "code",
   "execution_count": 57,
   "metadata": {
    "colab": {
     "base_uri": "https://localhost:8080/"
    },
    "id": "9JpJsx-qkB36",
    "outputId": "328c0910-57dc-4e98-90aa-9f01ff0a16fa"
   },
   "outputs": [
    {
     "name": "stdout",
     "output_type": "stream",
     "text": [
      "***** Forme des donnéees récupérées **********************\n",
      "<class 'pandas.core.frame.DataFrame'> (531456, 6) \n",
      "<class 'pandas.core.frame.DataFrame'> (531456, 1) \n",
      "<class 'pandas.core.frame.DataFrame'> (59392, 6) \n",
      "<class 'pandas.core.frame.DataFrame'> (59392, 1) \n"
     ]
    }
   ],
   "source": [
    "X_train = pd.read_csv(os.path.join(path, \"X_train.csv\"), sep=\";\")\n",
    "Y_train = pd.read_csv(os.path.join(path, \"Y_train.csv\"), sep=\";\")\n",
    "X_test  = pd.read_csv(os.path.join(path, \"X_test.csv\"), sep=\";\")\n",
    "Y_test  = pd.read_csv(os.path.join(path, \"Y_test.csv\"), sep=\";\")\n",
    "\n",
    "print(\"\"\"***** Forme des donnéees récupérées **********************\"\"\")\n",
    "print(f\"\"\"{type(X_train)} {X_train.shape} \"\"\")\n",
    "print(f\"\"\"{type(Y_train)} {Y_train.shape} \"\"\")\n",
    "print(f\"\"\"{type(X_test)} {X_test.shape} \"\"\")\n",
    "print(f\"\"\"{type(Y_test)} {Y_test.shape} \"\"\")\n"
   ]
  },
  {
   "cell_type": "code",
   "execution_count": 58,
   "metadata": {
    "colab": {
     "base_uri": "https://localhost:8080/"
    },
    "id": "VqDkaIK8kB38",
    "outputId": "d61dbcb4-0883-4543-9f3f-4df0ed45a1de"
   },
   "outputs": [
    {
     "name": "stdout",
     "output_type": "stream",
     "text": [
      "      AccX     AccY     AccZ      GyrX      GyrY      GyrZ\n",
      "0  5.94531  4.35938  7.28516  0.275635  0.072632  0.369629\n",
      "1  5.84766  4.39844  7.22656  0.197144  0.109314  0.319336\n",
      "2  5.94531  4.45703  7.18750  0.277100  0.160034  0.284424\n",
      "3  5.88672  4.43750  7.18750  0.229980  0.148560  0.281982\n",
      "4  5.88672  4.39844  7.14844  0.231445  0.121582  0.246582\n",
      "   Walk\n",
      "0     0\n",
      "1     0\n",
      "2     0\n",
      "3     0\n",
      "4     0\n",
      "      AccX      AccY     AccZ      GyrX      GyrY      GyrZ\n",
      "0 -9.32813 -0.506348  1.67773 -0.037140  0.079285  0.447266\n",
      "1 -9.54688 -0.564941  1.75586 -0.202271  0.016342  0.420410\n",
      "2 -9.28906 -0.663086  1.67773  0.042145 -0.065369  0.273682\n",
      "3 -9.37500 -0.682617  1.48144 -0.029068 -0.067993  0.062012\n",
      "4 -9.23438 -0.820312  1.01074  0.086609 -0.164185 -0.326904\n",
      "   Walk\n",
      "0     0\n",
      "1     0\n",
      "2     0\n",
      "3     0\n",
      "4     0\n"
     ]
    }
   ],
   "source": [
    "print(X_train.head())\n",
    "print(Y_train.head())\n",
    "print(X_test.head())\n",
    "print(Y_test.head())"
   ]
  },
  {
   "cell_type": "code",
   "execution_count": 59,
   "metadata": {
    "colab": {
     "base_uri": "https://localhost:8080/"
    },
    "id": "PlAyoDzLkB3_",
    "outputId": "1525cbb9-55b0-4193-8c0d-6b410fd191cf"
   },
   "outputs": [
    {
     "name": "stdout",
     "output_type": "stream",
     "text": [
      "<class 'pandas.core.frame.DataFrame'>\n",
      "RangeIndex: 531456 entries, 0 to 531455\n",
      "Data columns (total 6 columns):\n",
      " #   Column  Non-Null Count   Dtype  \n",
      "---  ------  --------------   -----  \n",
      " 0   AccX    531456 non-null  float64\n",
      " 1   AccY    531456 non-null  float64\n",
      " 2   AccZ    531456 non-null  float64\n",
      " 3   GyrX    531456 non-null  float64\n",
      " 4   GyrY    531456 non-null  float64\n",
      " 5   GyrZ    531456 non-null  float64\n",
      "dtypes: float64(6)\n",
      "memory usage: 24.3 MB\n",
      "None\n",
      "<class 'pandas.core.frame.DataFrame'>\n",
      "RangeIndex: 531456 entries, 0 to 531455\n",
      "Data columns (total 1 columns):\n",
      " #   Column  Non-Null Count   Dtype\n",
      "---  ------  --------------   -----\n",
      " 0   Walk    531456 non-null  int64\n",
      "dtypes: int64(1)\n",
      "memory usage: 4.1 MB\n",
      "None\n",
      "<class 'pandas.core.frame.DataFrame'>\n",
      "RangeIndex: 59392 entries, 0 to 59391\n",
      "Data columns (total 6 columns):\n",
      " #   Column  Non-Null Count  Dtype  \n",
      "---  ------  --------------  -----  \n",
      " 0   AccX    59392 non-null  float64\n",
      " 1   AccY    59392 non-null  float64\n",
      " 2   AccZ    59392 non-null  float64\n",
      " 3   GyrX    59392 non-null  float64\n",
      " 4   GyrY    59392 non-null  float64\n",
      " 5   GyrZ    59392 non-null  float64\n",
      "dtypes: float64(6)\n",
      "memory usage: 2.7 MB\n",
      "None\n",
      "<class 'pandas.core.frame.DataFrame'>\n",
      "RangeIndex: 59392 entries, 0 to 59391\n",
      "Data columns (total 1 columns):\n",
      " #   Column  Non-Null Count  Dtype\n",
      "---  ------  --------------  -----\n",
      " 0   Walk    59392 non-null  int64\n",
      "dtypes: int64(1)\n",
      "memory usage: 464.1 KB\n",
      "None\n"
     ]
    }
   ],
   "source": [
    "print(X_train.info())\n",
    "print(Y_train.info())\n",
    "print(X_test.info())\n",
    "print(Y_test.info())\n"
   ]
  },
  {
   "cell_type": "code",
   "execution_count": 60,
   "metadata": {},
   "outputs": [],
   "source": [
    "# On centre / réduit les données entre -1 and 1\n",
    "scaler = StandardScaler()\n",
    "#scaler.fit(X_train)  # fit only on training data\n",
    "#X_train = scaler.transform(X_train)\n",
    "# scaler transforme en numpy. On le convertit en Dataframe\n",
    "X_train = pd.DataFrame(scaler.fit_transform(X_train),columns = X_train.columns) \n",
    "X_test  = pd.DataFrame(scaler.fit_transform(X_test),columns = X_test.columns) "
   ]
  },
  {
   "cell_type": "raw",
   "metadata": {},
   "source": [
    "# Normalisation de la série chronologique (tout mettre à l'échelle [0,1])X_train = X_train.to_numpy()\n",
    "numerator = X_train - X_train.min(axis=1).reshape((len(X_train), 1))\n",
    "denominator = X_train.max(axis=1) - X_train.min(axis=1)\n",
    "denominator = denominator.reshape((len(X_train),1))\n",
    "X_train = numerator/denominator\n"
   ]
  },
  {
   "cell_type": "code",
   "execution_count": 61,
   "metadata": {},
   "outputs": [
    {
     "data": {
      "text/html": [
       "<div>\n",
       "<style scoped>\n",
       "    .dataframe tbody tr th:only-of-type {\n",
       "        vertical-align: middle;\n",
       "    }\n",
       "\n",
       "    .dataframe tbody tr th {\n",
       "        vertical-align: top;\n",
       "    }\n",
       "\n",
       "    .dataframe thead th {\n",
       "        text-align: right;\n",
       "    }\n",
       "</style>\n",
       "<table border=\"1\" class=\"dataframe\">\n",
       "  <thead>\n",
       "    <tr style=\"text-align: right;\">\n",
       "      <th></th>\n",
       "      <th>AccX</th>\n",
       "      <th>AccY</th>\n",
       "      <th>AccZ</th>\n",
       "      <th>GyrX</th>\n",
       "      <th>GyrY</th>\n",
       "      <th>GyrZ</th>\n",
       "    </tr>\n",
       "  </thead>\n",
       "  <tbody>\n",
       "    <tr>\n",
       "      <th>0</th>\n",
       "      <td>1.390705</td>\n",
       "      <td>1.095715</td>\n",
       "      <td>1.362134</td>\n",
       "      <td>0.131822</td>\n",
       "      <td>0.042201</td>\n",
       "      <td>0.183640</td>\n",
       "    </tr>\n",
       "    <tr>\n",
       "      <th>1</th>\n",
       "      <td>1.369699</td>\n",
       "      <td>1.100541</td>\n",
       "      <td>1.348898</td>\n",
       "      <td>0.090780</td>\n",
       "      <td>0.057681</td>\n",
       "      <td>0.160623</td>\n",
       "    </tr>\n",
       "    <tr>\n",
       "      <th>2</th>\n",
       "      <td>1.390705</td>\n",
       "      <td>1.107780</td>\n",
       "      <td>1.340075</td>\n",
       "      <td>0.132588</td>\n",
       "      <td>0.079085</td>\n",
       "      <td>0.144646</td>\n",
       "    </tr>\n",
       "    <tr>\n",
       "      <th>3</th>\n",
       "      <td>1.378101</td>\n",
       "      <td>1.105367</td>\n",
       "      <td>1.340075</td>\n",
       "      <td>0.107949</td>\n",
       "      <td>0.074243</td>\n",
       "      <td>0.143529</td>\n",
       "    </tr>\n",
       "    <tr>\n",
       "      <th>4</th>\n",
       "      <td>1.378101</td>\n",
       "      <td>1.100541</td>\n",
       "      <td>1.331253</td>\n",
       "      <td>0.108715</td>\n",
       "      <td>0.062858</td>\n",
       "      <td>0.127328</td>\n",
       "    </tr>\n",
       "    <tr>\n",
       "      <th>...</th>\n",
       "      <td>...</td>\n",
       "      <td>...</td>\n",
       "      <td>...</td>\n",
       "      <td>...</td>\n",
       "      <td>...</td>\n",
       "      <td>...</td>\n",
       "    </tr>\n",
       "    <tr>\n",
       "      <th>531451</th>\n",
       "      <td>-0.529332</td>\n",
       "      <td>-0.646469</td>\n",
       "      <td>-0.568337</td>\n",
       "      <td>-0.057495</td>\n",
       "      <td>0.087224</td>\n",
       "      <td>-0.232220</td>\n",
       "    </tr>\n",
       "    <tr>\n",
       "      <th>531452</th>\n",
       "      <td>-0.523029</td>\n",
       "      <td>-0.658051</td>\n",
       "      <td>-0.571203</td>\n",
       "      <td>-0.036464</td>\n",
       "      <td>0.042201</td>\n",
       "      <td>-0.187193</td>\n",
       "    </tr>\n",
       "    <tr>\n",
       "      <th>531453</th>\n",
       "      <td>-0.534374</td>\n",
       "      <td>-0.668668</td>\n",
       "      <td>-0.590174</td>\n",
       "      <td>-0.053634</td>\n",
       "      <td>0.006178</td>\n",
       "      <td>-0.177472</td>\n",
       "    </tr>\n",
       "    <tr>\n",
       "      <th>531454</th>\n",
       "      <td>-0.527230</td>\n",
       "      <td>-0.674459</td>\n",
       "      <td>-0.595468</td>\n",
       "      <td>-0.031373</td>\n",
       "      <td>-0.007290</td>\n",
       "      <td>-0.147863</td>\n",
       "    </tr>\n",
       "    <tr>\n",
       "      <th>531455</th>\n",
       "      <td>-0.513786</td>\n",
       "      <td>-0.668668</td>\n",
       "      <td>-0.579145</td>\n",
       "      <td>-0.001533</td>\n",
       "      <td>0.011830</td>\n",
       "      <td>-0.089149</td>\n",
       "    </tr>\n",
       "  </tbody>\n",
       "</table>\n",
       "<p>531456 rows × 6 columns</p>\n",
       "</div>"
      ],
      "text/plain": [
       "            AccX      AccY      AccZ      GyrX      GyrY      GyrZ\n",
       "0       1.390705  1.095715  1.362134  0.131822  0.042201  0.183640\n",
       "1       1.369699  1.100541  1.348898  0.090780  0.057681  0.160623\n",
       "2       1.390705  1.107780  1.340075  0.132588  0.079085  0.144646\n",
       "3       1.378101  1.105367  1.340075  0.107949  0.074243  0.143529\n",
       "4       1.378101  1.100541  1.331253  0.108715  0.062858  0.127328\n",
       "...          ...       ...       ...       ...       ...       ...\n",
       "531451 -0.529332 -0.646469 -0.568337 -0.057495  0.087224 -0.232220\n",
       "531452 -0.523029 -0.658051 -0.571203 -0.036464  0.042201 -0.187193\n",
       "531453 -0.534374 -0.668668 -0.590174 -0.053634  0.006178 -0.177472\n",
       "531454 -0.527230 -0.674459 -0.595468 -0.031373 -0.007290 -0.147863\n",
       "531455 -0.513786 -0.668668 -0.579145 -0.001533  0.011830 -0.089149\n",
       "\n",
       "[531456 rows x 6 columns]"
      ]
     },
     "execution_count": 61,
     "metadata": {},
     "output_type": "execute_result"
    }
   ],
   "source": [
    "X_train"
   ]
  },
  {
   "cell_type": "code",
   "execution_count": 62,
   "metadata": {
    "colab": {
     "base_uri": "https://localhost:8080/"
    },
    "id": "VqDkaIK8kB38",
    "outputId": "d61dbcb4-0883-4543-9f3f-4df0ed45a1de",
    "scrolled": true
   },
   "outputs": [
    {
     "name": "stdout",
     "output_type": "stream",
     "text": [
      "       AccX      AccY      AccZ      GyrX      GyrY      GyrZ\n",
      "0  1.390705  1.095715  1.362134  0.131822  0.042201  0.183640\n",
      "1  1.369699  1.100541  1.348898  0.090780  0.057681  0.160623\n",
      "2  1.390705  1.107780  1.340075  0.132588  0.079085  0.144646\n",
      "3  1.378101  1.105367  1.340075  0.107949  0.074243  0.143529\n",
      "4  1.378101  1.100541  1.331253  0.108715  0.062858  0.127328\n",
      "   Walk\n",
      "0     0\n",
      "1     0\n",
      "2     0\n",
      "3     0\n",
      "4     0\n",
      "       AccX      AccY      AccZ      GyrX      GyrY      GyrZ\n",
      "0 -1.954919  0.423887  0.132407 -0.038322  0.054214  0.209156\n",
      "1 -2.004136  0.416932  0.150973 -0.121048  0.028229  0.196692\n",
      "2 -1.946128  0.405281  0.132407  0.001397 -0.005505  0.128594\n",
      "3 -1.965464  0.402963  0.085763 -0.034279 -0.006588  0.030355\n",
      "4 -1.933826  0.386617 -0.026088  0.023672 -0.046300 -0.150146\n",
      "   Walk\n",
      "0     0\n",
      "1     0\n",
      "2     0\n",
      "3     0\n",
      "4     0\n"
     ]
    }
   ],
   "source": [
    "# Affichage des données centrées/réduites\n",
    "print(X_train.head())\n",
    "print(Y_train.head())\n",
    "print(X_test.head())\n",
    "print(Y_test.head())"
   ]
  },
  {
   "cell_type": "code",
   "execution_count": 63,
   "metadata": {},
   "outputs": [],
   "source": [
    "# Méthode manuelle pour centrer/réduire\n",
    "#mean = X.mean(axis=0)\n",
    "#std = X.std(axis=0)\n",
    "#X = (X - mean) / std"
   ]
  },
  {
   "cell_type": "code",
   "execution_count": 64,
   "metadata": {},
   "outputs": [
    {
     "name": "stdout",
     "output_type": "stream",
     "text": [
      "***** Forme des donnéees récupérées **********************\n",
      "<class 'pandas.core.frame.DataFrame'> (531456, 6) \n",
      "<class 'pandas.core.frame.DataFrame'> (531456, 1) \n",
      "<class 'pandas.core.frame.DataFrame'> (59392, 6) \n",
      "<class 'pandas.core.frame.DataFrame'> (59392, 1) \n"
     ]
    }
   ],
   "source": [
    "print(\"\"\"***** Forme des donnéees récupérées **********************\"\"\")\n",
    "print(f\"\"\"{type(X_train)} {X_train.shape} \"\"\")\n",
    "print(f\"\"\"{type(Y_train)} {Y_train.shape} \"\"\")\n",
    "print(f\"\"\"{type(X_test)} {X_test.shape} \"\"\")\n",
    "print(f\"\"\"{type(Y_test)} {Y_test.shape} \"\"\")"
   ]
  },
  {
   "cell_type": "code",
   "execution_count": 73,
   "metadata": {},
   "outputs": [
    {
     "name": "stdout",
     "output_type": "stream",
     "text": [
      "Forme: (531456, 6); type: <class 'numpy.ndarray'>\n",
      "Forme: (531456, 6); type: <class 'numpy.ndarray'>\n",
      "Forme: (531456, 6); type: <class 'numpy.ndarray'>\n"
     ]
    }
   ],
   "source": [
    "modulus_5 = generate_modulus_dataset(X_train, 5)\n",
    "modulus_15 = generate_modulus_dataset(X_train, 5)\n",
    "#modulus_30 = generate_modulus_dataset(X_train, 5)\n",
    "#complex_5 = generate_complex_dataset(X_train, 5)\n",
    "#complex_15 = generate_complex_dataset(X_train, 15)\n",
    "#complex_30 = generate_complex_dataset(X_train, 30)\n",
    "\n",
    "cv_results = []\n",
    "cv_results.append(cross_val_score(RandomForestClassifier(random_state=3), X_train, y=Y_train, scoring='accuracy', cv=kfold, n_jobs=4)) \n",
    "cv_results.append(cross_val_score(RandomForestClassifier(random_state=3), modulus_5, y=Y_train, scoring='accuracy', cv=kfold, n_jobs=4)) \n",
    "#cv_results.append(cross_val_score(RandomForestClassifier(random_state=3), modulus_15, y=Y_train, scoring='accuracy', cv=kfold, n_jobs=4)) \n",
    "#cv_results.append(cross_val_score(RandomForestClassifier(random_state=3), modulus_30, y=Y_train, scoring='accuracy', cv=kfold, n_jobs=4)) \n",
    "#cv_results.append(cross_val_score(DecisionTreeClassifier(random_state=3), complex_5, y=Y_train, scoring='accuracy', cv=kfold, n_jobs=4)) \n",
    "#cv_results.append(cross_val_score(DecisionTreeClassifier(random_state=3), complex_15, y=Y_train, scoring='accuracy', cv=kfold, n_jobs=4)) \n",
    "#cv_results.append(cross_val_score(DecisionTreeClassifier(random_state=3), complex_30, y=Y_train, scoring='accuracy', cv=kfold, n_jobs=4)) \n",
    "\n"
   ]
  },
  {
   "cell_type": "markdown",
   "metadata": {
    "id": "zvjICRhSkB34"
   },
   "source": [
    "# ML"
   ]
  },
  {
   "cell_type": "code",
   "execution_count": 55,
   "metadata": {
    "id": "B0FzYiELkB4A"
   },
   "outputs": [],
   "source": [
    "# Stratification\n",
    "# Dans le cas d’un problème de classification, on créée les k folds de sorte à ce qu’elles contiennent \n",
    "# à peu près les mêmes proportions d’exemples de chaque classe que le jeu de données complet. \n",
    "# On cherche à éviter qu’un jeu d’entraînement ne contienne que des exemples positifs et que le jeu de test \n",
    "# correspondant ne contienne que des exemples négatifs, ce qui va affecter négativement la performance du modèle!\n",
    "# Si l’on ne répartit pas les points positifs de manière équilibrée entre les différents folds, \n",
    "# les jeux d’entraînement et de test auront des proportions différentes de positifs et négatifs, ce qui peut biaiser \n",
    "# les résultats\n",
    "# La méthode model_selection.StratifiedKFold permet de créer les folds d’une validation croisée stratifiée.\n",
    "# Dans le cas d’un problème de classification, on fait attention à stratifier \n",
    "# la validation croisée pour éviter d’introduire des biais.\n",
    "kfold = StratifiedKFold(n_splits=5)"
   ]
  },
  {
   "cell_type": "code",
   "execution_count": 13,
   "metadata": {
    "id": "hAuJRzk1kB4B"
   },
   "outputs": [],
   "source": [
    "random_state=3\n",
    "classifiers = []\n",
    "#classifiers.append(SVC(random_state=random_state))\n",
    "#classifiers.append(DecisionTreeClassifier(random_state=random_state))\n",
    "#classifiers.append(AdaBoostClassifier(DecisionTreeClassifier(random_state=random_state), random_state=random_state, learning_rate=0.1))\n",
    "classifiers.append(RandomForestClassifier(random_state=random_state))\n",
    "#classifiers.append(ExtraTreesClassifier(random_state=random_state))\n",
    "#classifiers.append(GradientBoostingClassifier(random_state=random_state))\n",
    "#classifiers.append(MLPClassifier(random_state=random_state))\n",
    "#classifiers.append(KNeighborsClassifier())\n",
    "#classifiers.append(LogisticRegression(random_state=random_state))\n",
    "#classifiers.append(LinearDiscriminantAnalysis())\n",
    "#classifiers.append(SGDClassifier())"
   ]
  },
  {
   "cell_type": "raw",
   "metadata": {},
   "source": [
    "# Evaluation en validation croisée avec model_selection.cross_val_score\n",
    "# Ensuite on retient la moyenne du score obtenue sur les Kfolds par chaque modèle \n",
    "cv_results = []\n",
    "\n",
    "for classifier in classifiers:\n",
    "    cv_results.append(cross_val_score(classifier, X_train, y=Y_train, scoring='accuracy', cv=kfold, n_jobs=4))\n",
    "   \n",
    "cv_means = []\n",
    "cv_std   = []\n",
    "for cv_result in cv_results:\n",
    "    cv_means.append( cv_result.mean() )\n",
    "    cv_std.append(   cv_result.std()  )\n",
    "        \n",
    "cv_res = pd.DataFrame({  'CrossValMeans':cv_means, 'CrossValerrors':cv_std,\n",
    "                         'Algorithm':['SVC','DecisionTree','AdaBoost','RandomForest','ExtraTrees',\n",
    "                         'GradientBoosting','MultipleLayerPerceptron','KNeighbors',\n",
    "                         'LogisticRegression','LinearDiscriminantAnalysis']})\n",
    "\n",
    "for row in cv_res.itertuples(index=True, name='Pandas'):\n",
    "    print(\"Le cassifieur {0} a pour accuracy moyenne {1}\".format(getattr(row, \"Algorithm\"),getattr(row, \"CrossValMeans\")))\n",
    "    \n",
    "g = sns.barplot('CrossValMeans','Algorithm', data=cv_res, palette='YlGnBu', orient='h', **{'xerr':cv_std})\n",
    "g = g.set(title='Cross Validation scores',xlabel='Mean Accuracy')\n"
   ]
  },
  {
   "cell_type": "code",
   "execution_count": 75,
   "metadata": {},
   "outputs": [
    {
     "name": "stdout",
     "output_type": "stream",
     "text": [
      "Le cassifieur 0 a pour accuracy moyenne 0.709133399155907\n",
      "Le cassifieur 1 a pour accuracy moyenne 0.6771567755800258\n"
     ]
    },
    {
     "data": {
      "image/png": "[encoded data removed]",
      "text/plain": [
       "<Figure size 432x288 with 1 Axes>"
      ]
     },
     "metadata": {},
     "output_type": "display_data"
    }
   ],
   "source": [
    "cv_means = []\n",
    "cv_std   = []\n",
    "for cv_result in cv_results:\n",
    "    cv_means.append( cv_result.mean() )\n",
    "    cv_std.append(   cv_result.std()  )\n",
    "\n",
    "cv_res = pd.DataFrame({'CrossValMeans':cv_means, 'CrossValerrors':cv_std,\n",
    "                       'Algorithm':[i for i in range(2)]\n",
    "                      })\n",
    "\n",
    "for row in cv_res.itertuples(index=True, name='Pandas'):\n",
    "    print(\"Le cassifieur {0} a pour accuracy moyenne {1}\".format(getattr(row, \"Algorithm\"),getattr(row, \"CrossValMeans\")))\n",
    "    \n",
    "g = sns.barplot('CrossValMeans','Algorithm', data=cv_res, palette='YlGnBu', orient='h', **{'xerr':cv_std})\n",
    "g = g.set(title='Cross Validation scores',xlabel='Mean Accuracy')\n"
   ]
  },
  {
   "cell_type": "markdown",
   "metadata": {
    "id": "RvA8wxOskB4F"
   },
   "source": [
    "# Boosting\n",
    "### Principe: évaluer une séquence de classifieurs faibles (weak learners) sur plusieurs versions légèrement modifiées des données d’apprentissage. Les décisions obtenues sont alors combinées par une somme ponderée pour obtenir le modèle final.\n",
    "### Avec scikit-learn, c’est la classe AdaBoostClassifier qui implémente cet algorithme. Les paramètres les plus importants sont :\n",
    "###         n_estimators : integer, optional (default=10). Le nombre de classifieurs faibles.\n",
    "###         learning_rate : contrôle la vitesse de changement des poids par itération.\n",
    "###         base_estimator : (default=DecisionTreeClassifier) le classifieur faible utilisé."
   ]
  },
  {
   "cell_type": "code",
   "execution_count": 24,
   "metadata": {},
   "outputs": [
    {
     "data": {
      "text/html": [
       "<div>\n",
       "<style scoped>\n",
       "    .dataframe tbody tr th:only-of-type {\n",
       "        vertical-align: middle;\n",
       "    }\n",
       "\n",
       "    .dataframe tbody tr th {\n",
       "        vertical-align: top;\n",
       "    }\n",
       "\n",
       "    .dataframe thead th {\n",
       "        text-align: right;\n",
       "    }\n",
       "</style>\n",
       "<table border=\"1\" class=\"dataframe\">\n",
       "  <thead>\n",
       "    <tr style=\"text-align: right;\">\n",
       "      <th></th>\n",
       "      <th>Col0</th>\n",
       "      <th>Col1</th>\n",
       "      <th>Col2</th>\n",
       "      <th>Col3</th>\n",
       "      <th>Col4</th>\n",
       "      <th>Col5</th>\n",
       "      <th>Col6</th>\n",
       "      <th>Col7</th>\n",
       "      <th>Col8</th>\n",
       "      <th>Col9</th>\n",
       "      <th>Col10</th>\n",
       "      <th>Col11</th>\n",
       "    </tr>\n",
       "  </thead>\n",
       "  <tbody>\n",
       "    <tr>\n",
       "      <th>0</th>\n",
       "      <td>4.206217</td>\n",
       "      <td>1.196393</td>\n",
       "      <td>0.180681</td>\n",
       "      <td>1.383863</td>\n",
       "      <td>0.180681</td>\n",
       "      <td>1.196393</td>\n",
       "      <td>0.0</td>\n",
       "      <td>-1.932976</td>\n",
       "      <td>0.353215</td>\n",
       "      <td>1.110223e-16</td>\n",
       "      <td>-0.353215</td>\n",
       "      <td>1.932976</td>\n",
       "    </tr>\n",
       "    <tr>\n",
       "      <th>1</th>\n",
       "      <td>4.128222</td>\n",
       "      <td>1.206212</td>\n",
       "      <td>0.126607</td>\n",
       "      <td>1.424334</td>\n",
       "      <td>0.126607</td>\n",
       "      <td>1.206212</td>\n",
       "      <td>0.0</td>\n",
       "      <td>-1.932219</td>\n",
       "      <td>0.304234</td>\n",
       "      <td>1.110223e-16</td>\n",
       "      <td>-0.304234</td>\n",
       "      <td>1.932219</td>\n",
       "    </tr>\n",
       "    <tr>\n",
       "      <th>2</th>\n",
       "      <td>4.194878</td>\n",
       "      <td>1.174749</td>\n",
       "      <td>0.187499</td>\n",
       "      <td>1.424851</td>\n",
       "      <td>0.187499</td>\n",
       "      <td>1.174749</td>\n",
       "      <td>0.0</td>\n",
       "      <td>-1.926148</td>\n",
       "      <td>0.257952</td>\n",
       "      <td>2.220446e-16</td>\n",
       "      <td>-0.257952</td>\n",
       "      <td>1.926148</td>\n",
       "    </tr>\n",
       "    <tr>\n",
       "      <th>3</th>\n",
       "      <td>4.149264</td>\n",
       "      <td>1.187440</td>\n",
       "      <td>0.154444</td>\n",
       "      <td>1.435575</td>\n",
       "      <td>0.154444</td>\n",
       "      <td>1.187440</td>\n",
       "      <td>0.0</td>\n",
       "      <td>-1.929219</td>\n",
       "      <td>0.263267</td>\n",
       "      <td>1.110223e-16</td>\n",
       "      <td>-0.263267</td>\n",
       "      <td>1.929219</td>\n",
       "    </tr>\n",
       "    <tr>\n",
       "      <th>4</th>\n",
       "      <td>4.108797</td>\n",
       "      <td>1.186265</td>\n",
       "      <td>0.175827</td>\n",
       "      <td>1.435628</td>\n",
       "      <td>0.175827</td>\n",
       "      <td>1.186265</td>\n",
       "      <td>0.0</td>\n",
       "      <td>-1.941290</td>\n",
       "      <td>0.255635</td>\n",
       "      <td>1.110223e-16</td>\n",
       "      <td>-0.255635</td>\n",
       "      <td>1.941290</td>\n",
       "    </tr>\n",
       "    <tr>\n",
       "      <th>...</th>\n",
       "      <td>...</td>\n",
       "      <td>...</td>\n",
       "      <td>...</td>\n",
       "      <td>...</td>\n",
       "      <td>...</td>\n",
       "      <td>...</td>\n",
       "      <td>...</td>\n",
       "      <td>...</td>\n",
       "      <td>...</td>\n",
       "      <td>...</td>\n",
       "      <td>...</td>\n",
       "      <td>...</td>\n",
       "    </tr>\n",
       "    <tr>\n",
       "      <th>531451</th>\n",
       "      <td>-1.946629</td>\n",
       "      <td>-0.670624</td>\n",
       "      <td>0.093073</td>\n",
       "      <td>-0.074262</td>\n",
       "      <td>0.093073</td>\n",
       "      <td>-0.670624</td>\n",
       "      <td>0.0</td>\n",
       "      <td>0.926483</td>\n",
       "      <td>-0.208983</td>\n",
       "      <td>-1.110223e-16</td>\n",
       "      <td>0.208983</td>\n",
       "      <td>-0.926483</td>\n",
       "    </tr>\n",
       "    <tr>\n",
       "      <th>531452</th>\n",
       "      <td>-1.933739</td>\n",
       "      <td>-0.644686</td>\n",
       "      <td>0.127630</td>\n",
       "      <td>-0.170324</td>\n",
       "      <td>0.127630</td>\n",
       "      <td>-0.644686</td>\n",
       "      <td>0.0</td>\n",
       "      <td>0.938999</td>\n",
       "      <td>-0.123449</td>\n",
       "      <td>-5.551115e-17</td>\n",
       "      <td>0.123449</td>\n",
       "      <td>-0.938999</td>\n",
       "    </tr>\n",
       "    <tr>\n",
       "      <th>531453</th>\n",
       "      <td>-2.018145</td>\n",
       "      <td>-0.611812</td>\n",
       "      <td>0.127061</td>\n",
       "      <td>-0.218596</td>\n",
       "      <td>0.127061</td>\n",
       "      <td>-0.611812</td>\n",
       "      <td>0.0</td>\n",
       "      <td>0.941844</td>\n",
       "      <td>-0.091067</td>\n",
       "      <td>-5.551115e-17</td>\n",
       "      <td>0.091067</td>\n",
       "      <td>-0.941844</td>\n",
       "    </tr>\n",
       "    <tr>\n",
       "      <th>531454</th>\n",
       "      <td>-1.983685</td>\n",
       "      <td>-0.605639</td>\n",
       "      <td>0.153937</td>\n",
       "      <td>-0.276293</td>\n",
       "      <td>0.153937</td>\n",
       "      <td>-0.605639</td>\n",
       "      <td>0.0</td>\n",
       "      <td>0.965422</td>\n",
       "      <td>-0.053332</td>\n",
       "      <td>0.000000e+00</td>\n",
       "      <td>0.053332</td>\n",
       "      <td>-0.965422</td>\n",
       "    </tr>\n",
       "    <tr>\n",
       "      <th>531455</th>\n",
       "      <td>-1.840452</td>\n",
       "      <td>-0.607504</td>\n",
       "      <td>0.147247</td>\n",
       "      <td>-0.321750</td>\n",
       "      <td>0.147247</td>\n",
       "      <td>-0.607504</td>\n",
       "      <td>0.0</td>\n",
       "      <td>1.013678</td>\n",
       "      <td>-0.009921</td>\n",
       "      <td>-1.110223e-16</td>\n",
       "      <td>0.009921</td>\n",
       "      <td>-1.013678</td>\n",
       "    </tr>\n",
       "  </tbody>\n",
       "</table>\n",
       "<p>531456 rows × 12 columns</p>\n",
       "</div>"
      ],
      "text/plain": [
       "            Col0      Col1      Col2      Col3      Col4      Col5  Col6  \\\n",
       "0       4.206217  1.196393  0.180681  1.383863  0.180681  1.196393   0.0   \n",
       "1       4.128222  1.206212  0.126607  1.424334  0.126607  1.206212   0.0   \n",
       "2       4.194878  1.174749  0.187499  1.424851  0.187499  1.174749   0.0   \n",
       "3       4.149264  1.187440  0.154444  1.435575  0.154444  1.187440   0.0   \n",
       "4       4.108797  1.186265  0.175827  1.435628  0.175827  1.186265   0.0   \n",
       "...          ...       ...       ...       ...       ...       ...   ...   \n",
       "531451 -1.946629 -0.670624  0.093073 -0.074262  0.093073 -0.670624   0.0   \n",
       "531452 -1.933739 -0.644686  0.127630 -0.170324  0.127630 -0.644686   0.0   \n",
       "531453 -2.018145 -0.611812  0.127061 -0.218596  0.127061 -0.611812   0.0   \n",
       "531454 -1.983685 -0.605639  0.153937 -0.276293  0.153937 -0.605639   0.0   \n",
       "531455 -1.840452 -0.607504  0.147247 -0.321750  0.147247 -0.607504   0.0   \n",
       "\n",
       "            Col7      Col8          Col9     Col10     Col11  \n",
       "0      -1.932976  0.353215  1.110223e-16 -0.353215  1.932976  \n",
       "1      -1.932219  0.304234  1.110223e-16 -0.304234  1.932219  \n",
       "2      -1.926148  0.257952  2.220446e-16 -0.257952  1.926148  \n",
       "3      -1.929219  0.263267  1.110223e-16 -0.263267  1.929219  \n",
       "4      -1.941290  0.255635  1.110223e-16 -0.255635  1.941290  \n",
       "...          ...       ...           ...       ...       ...  \n",
       "531451  0.926483 -0.208983 -1.110223e-16  0.208983 -0.926483  \n",
       "531452  0.938999 -0.123449 -5.551115e-17  0.123449 -0.938999  \n",
       "531453  0.941844 -0.091067 -5.551115e-17  0.091067 -0.941844  \n",
       "531454  0.965422 -0.053332  0.000000e+00  0.053332 -0.965422  \n",
       "531455  1.013678 -0.009921 -1.110223e-16  0.009921 -1.013678  \n",
       "\n",
       "[531456 rows x 12 columns]"
      ]
     },
     "execution_count": 24,
     "metadata": {},
     "output_type": "execute_result"
    }
   ],
   "source": [
    "dataset"
   ]
  },
  {
   "cell_type": "code",
   "execution_count": null,
   "metadata": {
    "colab": {
     "base_uri": "https://localhost:8080/"
    },
    "id": "vc9MdOIlkB4F",
    "outputId": "d56880c8-7ba1-46be-fda0-6ff47314645b"
   },
   "outputs": [],
   "source": [
    "DTC = DecisionTreeClassifier()\n",
    "\n",
    "adaDTC = AdaBoostClassifier(DTC, random_state=7)\n",
    "\n",
    "ada_param_grid = {'base_estimator__criterion':['gini', 'entropy'],\n",
    "                  'base_estimator__splitter' :['best', 'random'],\n",
    "                  'algorithm'                :['SAMME', 'SAMME.R'],\n",
    "                  'n_estimators'             :[1,2],\n",
    "                  'learning_rate'            :[0.0001, 0.001, 0.01, 0.1, 0.2, 0.3, 1.5]}\n",
    "\n",
    "gsadaDTC = GridSearchCV( adaDTC, param_grid=ada_param_grid, cv=kfold, scoring='accuracy', n_jobs=4, verbose=1 )\n",
    "gsadaDTC.fit(X_train,Y_train)\n",
    "ada_best = gsadaDTC.best_estimator_\n",
    "print(gsadaDTC.best_params_)\n",
    "print(gsadaDTC.best_score_)"
   ]
  },
  {
   "cell_type": "code",
   "execution_count": null,
   "metadata": {
    "id": "V_IIs8A4kB4G"
   },
   "outputs": [],
   "source": [
    "#print(ada_best)\n",
    "print(\"***BEST PARAMS********\")\n",
    "print(gsadaDTC.best_params_)\n",
    "print(\"***BEST SCORE********\")\n",
    "print(gsadaDTC.best_score_)"
   ]
  },
  {
   "cell_type": "markdown",
   "metadata": {
    "id": "JYHWmM77kB4G"
   },
   "source": [
    "## Evaluation du modèle\n",
    "### •Utiliser différente métriques de sklearn.metrics pour évaluer les performances du modèle\n",
    "### •Afficher la matrice de confusion grace à la fonction plot_confusion_matrix\n"
   ]
  },
  {
   "cell_type": "code",
   "execution_count": null,
   "metadata": {
    "id": "-hPpYIzCkB4H"
   },
   "outputs": [],
   "source": [
    "#Y_pred_test = gsadaDTC.predict(X_test)\n",
    "Y_pred_train = gsadaDTC.predict(X_train)"
   ]
  },
  {
   "cell_type": "code",
   "execution_count": null,
   "metadata": {
    "id": "pgZ70uoZkB4I"
   },
   "outputs": [],
   "source": [
    "# evaluation\n",
    "from sklearn.metrics import confusion_matrix, accuracy_score, precision_score, recall_score\n",
    "\n",
    "cm = confusion_matrix(Y_train, Y_pred_train)\n",
    "#print(cm)\n",
    "plot_confusion_matrix(cm, [\"Echec\", \"Succès\"])\n",
    "print(\"Accuracy train {}\".format(accuracy_score(Y_train, Y_pred_train)))\n",
    "print(\"Precision train {}\".format(precision_score(Y_train, Y_pred_train)))\n",
    "print(\"Recall train {}\".format(recall_score(Y_train, Y_pred_train)))\n",
    "#print(\"Accuracy test {}\".format(accuracy_score(Y_test, Y_pred_test)))\n",
    "#print(\"Precision test {}\".format(precision_score(Y_test, Y_pred_test)))\n",
    "#print(\"Recall test {}\".format(recall_score(Y_test, Y_pred_test)))\n"
   ]
  },
  {
   "cell_type": "code",
   "execution_count": null,
   "metadata": {
    "id": "5u7NSfPLkB4I"
   },
   "outputs": [],
   "source": [
    "from sklearn import metrics\n",
    "print(metrics.classification_report(Y_train, Y_pred_train))"
   ]
  },
  {
   "cell_type": "markdown",
   "metadata": {
    "id": "2Vsi4v_1kB4I"
   },
   "source": [
    "# ROC curve"
   ]
  },
  {
   "cell_type": "code",
   "execution_count": null,
   "metadata": {
    "id": "h4bI4aUCkB4J"
   },
   "outputs": [],
   "source": [
    "from sklearn.metrics import roc_curve, auc\n",
    "from sklearn.model_selection import StratifiedKFold\n",
    "from scipy import interp\n",
    "\n",
    "# Classification and ROC analysis\n",
    "random_state = 42\n",
    "# Run classifier with cross-validation and plot ROC curves\n",
    "#cv = StratifiedKFold(n_splits=3)\n",
    "#classifier = SVC(kernel='linear', probability=True,\n",
    "#                     random_state=random_state)\n",
    "\n",
    "tprs = []\n",
    "aucs = []\n",
    "mean_fpr = np.linspace(0, 1, 100)\n",
    "plt.figure(figsize=(10,10))\n",
    "i = 0\n",
    "for train, test in kfold.split(X, y):\n",
    "    #clf = classifier.fit(X.loc[train], Y.loc[train])\n",
    "    clf = gsadaDTC.fit(X.loc[train], y.loc[train])\n",
    "    \n",
    "    probas_ =  clf.predict_proba(X.loc[test])\n",
    "    # Compute ROC curve and area the curve\n",
    "    fpr, tpr, thresholds = roc_curve(y.loc[test], probas_[:, 1])\n",
    "    tprs.append(interp(mean_fpr, fpr, tpr))\n",
    "    tprs[-1][0] = 0.0\n",
    "    roc_auc = auc(fpr, tpr)\n",
    "    aucs.append(roc_auc)\n",
    "    plt.plot(fpr, tpr, lw=1, alpha=0.3,\n",
    "             label='ROC fold %d (AUC = %0.2f)' % (i, roc_auc))\n",
    "\n",
    "    i += 1\n",
    "plt.plot([0, 1], [0, 1], linestyle='--', lw=2, color='r',\n",
    "         label='Luck', alpha=.8)\n",
    "\n",
    "mean_tpr = np.mean(tprs, axis=0)\n",
    "mean_tpr[-1] = 1.0\n",
    "mean_auc = auc(mean_fpr, mean_tpr)\n",
    "std_auc = np.std(aucs)\n",
    "plt.plot(mean_fpr, mean_tpr, color='b',\n",
    "         label=r'Mean ROC (AUC = %0.2f $\\pm$ %0.2f)' % (mean_auc, std_auc),\n",
    "         lw=2, alpha=.8)\n",
    "\n",
    "std_tpr = np.std(tprs, axis=0)\n",
    "tprs_upper = np.minimum(mean_tpr + std_tpr, 1)\n",
    "tprs_lower = np.maximum(mean_tpr - std_tpr, 0)\n",
    "plt.fill_between(mean_fpr, tprs_lower, tprs_upper, color='grey', alpha=.2,\n",
    "                 label=r'$\\pm$ 1 std. dev.')\n",
    "\n",
    "plt.xlim([-0.05, 1.05])\n",
    "plt.ylim([-0.05, 1.05])\n",
    "plt.xlabel('False Positive Rate')\n",
    "plt.ylabel('True Positive Rate')\n",
    "plt.title('Receiver operating characteristic example')\n",
    "plt.legend(loc=\"lower right\")\n",
    "plt.show()"
   ]
  },
  {
   "cell_type": "code",
   "execution_count": null,
   "metadata": {
    "id": "BtYb235ukB4K"
   },
   "outputs": [],
   "source": [
    "# define the parameter values that should be searched\n",
    "# for python 2, k_range = range(1, 31)\n",
    "knn = KNeighborsClassifier()\n",
    "k_range = list(range(1, 31))\n",
    "ex_param_grid = dict(n_neighbors=k_range)\n",
    "gsKnn = GridSearchCV(knn, param_grid=ex_param_grid, cv=kfold, scoring='accuracy', n_jobs=4, verbose=1)\n",
    "gsKnn.fit(X_train, Y_train)\n",
    "\n",
    "knn_best = gsKnn.best_estimator_\n",
    "print(knn_best)\n",
    "print(gsKnn.best_score_)"
   ]
  },
  {
   "cell_type": "code",
   "execution_count": null,
   "metadata": {
    "id": "IPbCqUK8kB4K"
   },
   "outputs": [],
   "source": [
    "# create a list of the mean scores only\n",
    "# list comprehension to loop through grid.grid_scores\n",
    "grid_mean_scores = [result.mean_validation_score for result in gsKnn.grid_scores_]\n",
    "print(grid_mean_scores)"
   ]
  },
  {
   "cell_type": "code",
   "execution_count": null,
   "metadata": {
    "id": "XsjYXfmWkB4K"
   },
   "outputs": [],
   "source": [
    "ExtC = ExtraTreesClassifier()\n",
    "\n",
    "ex_param_grid = {'max_depth'        :[None],\n",
    "                 'max_features'     :[1, 1, 1],\n",
    "                 'min_samples_split':[2, 3, 7],\n",
    "                 'min_samples_leaf' :[1, 3, 7],\n",
    "                 'bootstrap'        :[False],\n",
    "                 'n_estimators'     :[100, 300],\n",
    "                 'criterion'        :['gini']}\n",
    "\n",
    "gsExtC = GridSearchCV(ExtC, param_grid=ex_param_grid, cv=kfold, scoring='accuracy', n_jobs=4, verbose=1)\n",
    "gsExtC.fit(X_train, Y_train)\n",
    "\n",
    "ExtC_best = gsExtC.best_estimator_\n",
    "\n",
    "gsExtC.best_score_"
   ]
  },
  {
   "cell_type": "code",
   "execution_count": null,
   "metadata": {
    "id": "K_JSUEolkB4K"
   },
   "outputs": [],
   "source": [
    "RFC = RandomForestClassifier()\n",
    "\n",
    "rf_param_grid = {'max_depth'        :[None],\n",
    "                 'max_features'     :[1, 4, 1],\n",
    "                 'min_samples_split':[2, 3, 7],\n",
    "                 'bootstrap'        :[False],\n",
    "                 'n_estimators'     :[100, 300],\n",
    "                 'criterion'        :['gini']}\n",
    "\n",
    "gsRFC = GridSearchCV(RFC, param_grid=rf_param_grid, cv=kfold, scoring='accuracy', n_jobs=4, verbose=1)\n",
    "gsRFC.fit(X_train, Y_train)\n",
    "RFC_best = gsRFC.best_estimator_\n",
    "\n",
    "gsRFC.best_score_"
   ]
  },
  {
   "cell_type": "code",
   "execution_count": null,
   "metadata": {
    "id": "6AXqtqkXkB4L"
   },
   "outputs": [],
   "source": [
    "GBC = GradientBoostingClassifier()\n",
    "\n",
    "gb_param_grid = {'loss'            :['deviance'],\n",
    "                 'n_estimators'    :[100, 200, 300],\n",
    "                 'learning_rate'   :[0.001, 0.01, 0.1, 1, 10, 100],\n",
    "                 'max_depth'       :[4, 8],\n",
    "                 'min_samples_leaf':[100, 150],\n",
    "                 'max_features'    :[0.3, 0.1]\n",
    "                }\n",
    "\n",
    "gsGBC = GridSearchCV( GBC, param_grid=gb_param_grid, cv=kfold, scoring='accuracy',n_jobs=4, verbose=1 )\n",
    "\n",
    "gsGBC.fit(X_train, Y_train)\n",
    "GBC_best = gsGBC.best_estimator_\n",
    "\n",
    "gsGBC.best_score_"
   ]
  },
  {
   "cell_type": "code",
   "execution_count": null,
   "metadata": {
    "id": "6aXfU9IbkB4L"
   },
   "outputs": [],
   "source": [
    "SVMC = SVC(probability=True)\n",
    "svc_param_grid = {'kernel':['rbf'],\n",
    "                  'gamma' :[0.001, 0.01, 0.1, 1, 10, 100],\n",
    "                  'C'     :[1, 10,  100, 400,  800, 1000]}\n",
    "\n",
    "gsSVMC = GridSearchCV(SVMC, param_grid=svc_param_grid, cv=kfold, scoring='accuracy', n_jobs=4, verbose=1)\n",
    "\n",
    "gsSVMC.fit(X_train, Y_train)\n",
    "SVMC_best = gsSVMC.best_estimator_\n",
    "\n",
    "gsSVMC.best_score_"
   ]
  },
  {
   "cell_type": "code",
   "execution_count": null,
   "metadata": {
    "id": "d1mpmZ6LkB4L"
   },
   "outputs": [],
   "source": [
    "parameters = {'solver':['adam'], 'max_iter':[800], 'alpha':10.0**-np.arange(1,10), 'hidden_layer_sizes':[40,20,10], 'random_state':[0,1] }\n",
    "gsMLPC=GridSearchCV(MLPClassifier(), parameters, n_jobs=-1)\n",
    "\n",
    "gsMLPC.fit(X_train, Y_train)\n",
    "MLPC_best = gsMLPC.best_estimator_\n",
    "\n",
    "gsMLPC.best_score_"
   ]
  },
  {
   "cell_type": "code",
   "execution_count": null,
   "metadata": {
    "id": "4S1E-zYskB4M"
   },
   "outputs": [],
   "source": [
    "def plot_learning_curve(estimator, title, X, y, ylim=None, cv=None, n_jobs=-1, train_sizes=np.linspace(.1, 1.0, 5)):\n",
    "    plt.figure()\n",
    "    plt.title(title)\n",
    "    if ylim is not None:\n",
    "        plt.ylim(*ylim)\n",
    "    plt.xlabel('Training examples')\n",
    "    plt.ylabel('Score')\n",
    "    train_sizes, train_scores, test_scores = learning_curve(estimator, X, y, cv=cv, n_jobs=n_jobs, train_sizes=train_sizes)\n",
    "    train_scores_mean = np.mean( train_scores, axis=1 )\n",
    "    train_scores_std  = np.std(  train_scores, axis=1 )\n",
    "    test_scores_mean  = np.mean( test_scores, axis=1  )\n",
    "    test_scores_std   = np.std(  test_scores, axis=1  )\n",
    "    \n",
    "    plt.fill_between( train_sizes, train_scores_mean-train_scores_std, train_scores_mean+train_scores_std, alpha=0.1, color='r' )\n",
    "    plt.fill_between( train_sizes, test_scores_mean-train_scores_std,  test_scores_mean+train_scores_std,  alpha=0.1, color='g' )\n",
    "    \n",
    "    plt.plot(train_sizes, train_scores_mean, 'o-', color='r', label='Training score')\n",
    "    plt.plot(train_sizes, test_scores_mean,  'o-', color='g', label='Cross-validation score')\n",
    "    plt.legend(loc='best')\n",
    "    return plt"
   ]
  },
  {
   "cell_type": "code",
   "execution_count": null,
   "metadata": {
    "id": "4AOYmwc5kB4M"
   },
   "outputs": [],
   "source": [
    "g1 = plot_learning_curve( gsGBC.best_estimator_,    'Gradient Boosting Learning Curve', X_train, Y_train, cv=kfold )\n",
    "g2 = plot_learning_curve( gsExtC.best_estimator_,   'ExtraTrees learning curves',       X_train, Y_train, cv=kfold )\n",
    "g3 = plot_learning_curve( gsSVMC.best_estimator_,   'SVC learning curves',              X_train, Y_train, cv=kfold )\n",
    "g4 = plot_learning_curve( gsadaDTC.best_estimator_, 'AdaBoost learning curves',         X_train, Y_train, cv=kfold )\n",
    "g5 = plot_learning_curve( gsRFC.best_estimator_,    'RF meaning curves',                X_train, Y_train, cv=kfold )\n",
    "g6 = plot_learning_curve( gsMLPC.best_estimator_,   'MLP meaning curves',               X_train, Y_train, cv=kfold )"
   ]
  },
  {
   "cell_type": "code",
   "execution_count": null,
   "metadata": {
    "id": "oSSml931kB4N"
   },
   "outputs": [],
   "source": [
    "nrows = 2\n",
    "ncols = 2\n",
    "fig, axes = plt.subplots(nrows=nrows, ncols=ncols, sharex='all', figsize=(15,15))\n",
    "\n",
    "names_classifiers = [('AdaBoosting', ada_best),('ExtraTrees',ExtC_best),('RandomForest',RFC_best),('GradientBoosting',GBC_best),(\"MLP\",MLPC_best)]\n",
    "\n",
    "nclassifier = 0\n",
    "for row in range(nrows):\n",
    "    for col in range(ncols):\n",
    "        name = names_classifiers[nclassifier][0]\n",
    "        classifier = names_classifiers[nclassifier][1]\n",
    "        indices = np.argsort(classifier.feature_importances_)[::-1][:40]\n",
    "        g = sns.barplot(y=X_train.columns[indices][:40],x=classifier.feature_importances_[indices][:40], orient='h', ax=axes[row][col])\n",
    "        g.set_xlabel('Relative importance', fontsize=12)\n",
    "        g.set_ylabel('Features', fontsize=12)\n",
    "        g.tick_params(labelsize=9)\n",
    "        g.set_title(name+' feature importance')\n",
    "        nclassifier +=1"
   ]
  },
  {
   "cell_type": "code",
   "execution_count": null,
   "metadata": {
    "id": "8iUFO0bmkB4N"
   },
   "outputs": [],
   "source": [
    "test_Survived_RFC  = pd.Series(RFC_best.predict(test),  name='RFC' )\n",
    "test_Survived_ExtC = pd.Series(ExtC_best.predict(test), name='ExtC')\n",
    "test_Survived_SVMC = pd.Series(SVMC_best.predict(test), name='SVC' )\n",
    "test_Survived_AdaC = pd.Series(ada_best.predict(test),  name='Ada' )\n",
    "test_Survived_GBC  = pd.Series(GBC_best.predict(test),  name='GBC' )\n",
    "test_Survived_MLP  = pd.Series(MLPC_best.predict(test), name='MLP' )\n",
    "\n",
    "ensemble_results = pd.concat( [test_Survived_RFC, test_Survived_ExtC, test_Survived_SVMC, test_Survived_AdaC, test_Survived_GBC, test_Survived_MLP], axis=1 )\n",
    "g = sns.heatmap(ensemble_results.corr(), annot=True, annot_kws={'size':12})"
   ]
  },
  {
   "cell_type": "code",
   "execution_count": null,
   "metadata": {
    "id": "zaojwW1MkB4N"
   },
   "outputs": [],
   "source": [
    "votingC = VotingClassifier(estimators = [('rfc',RFC_best),('extc',ExtC_best),('svc',SVMC_best),('adac',ada_best),('gbc',GBC_best),('mlp',MLPC_best)],voting='soft',n_jobs=4)\n",
    "votingC = votingC.fit(X_train, Y_train)"
   ]
  },
  {
   "cell_type": "code",
   "execution_count": null,
   "metadata": {
    "id": "GSl7AsaGkB4N"
   },
   "outputs": [],
   "source": [
    "test_Survived = pd.Series(votingC.predict(test), name='Survived')\n",
    "\n",
    "results = pd.concat([IDtest, test_Survived],axis=1)\n",
    "\n",
    "results.to_csv('32_submission.csv', index=False)"
   ]
  },
  {
   "cell_type": "code",
   "execution_count": null,
   "metadata": {
    "id": "3lkkqGzkkB4O"
   },
   "outputs": [],
   "source": [
    "# test_Survived = gsGBC.predict(test)\n",
    "\n",
    "# submission = pd.DataFrame({\n",
    "#     'PassengerId' : IDtest,\n",
    "#     'Survived' : test_Survived\n",
    "# })\n",
    "\n",
    "# submission.to_csv('my_first_submission.csv', index=False)"
   ]
  },
  {
   "cell_type": "code",
   "execution_count": null,
   "metadata": {
    "id": "sEYW9_0BkB4O"
   },
   "outputs": [],
   "source": [
    "# test_Survived = gsSVMC.predict(test)\n",
    "\n",
    "# submission = pd.DataFrame({\n",
    "#     'PassengerId' : IDtest,\n",
    "#     'Survived' : test_Survived\n",
    "# })\n",
    "\n",
    "# submission.to_csv('submission_31th.csv', index=False)"
   ]
  },
  {
   "cell_type": "code",
   "execution_count": null,
   "metadata": {
    "id": "81hkZPIkkB4O"
   },
   "outputs": [],
   "source": [
    "# test_Survived = mlp.predict(test)\n",
    "\n",
    "# submission = pd.DataFrame({\n",
    "#     'PassengerId' : IDtest,\n",
    "#     'Survived' : test_Survived\n",
    "# })\n",
    "\n",
    "# submission.to_csv('my_NN_submission.csv', index=False)"
   ]
  },
  {
   "cell_type": "markdown",
   "metadata": {},
   "source": [
    "# SGD Classifier"
   ]
  },
  {
   "cell_type": "code",
   "execution_count": null,
   "metadata": {},
   "outputs": [],
   "source": [
    "# Implementing Linear_SGD classifier\n",
    "from sklearn.linear_model import SGDClassifier\n",
    "sgd_param_grid = {'loss'            :[\"hinge\", \"log\", \"perceptron\", \"squared_hinge\", \"modified_huber\"],\n",
    "                 'penalty'         :['l2', 'l1', 'elasticnet', 'none'],\n",
    "                 'max_iter'        : [5, 10, 20, 50, 100, 1000, 10000, 20000],\n",
    "                 'alpha'           : [10 ** x for x in range(-6, 3)]} # ** = puissance()\n",
    "                  # [0.0001, 0.001, 0.01, 0.1, 1, 2, 10, 20, 50]}\n",
    "\n",
    "SGD = SGDClassifier() # ex clf\n",
    "GS_SGD = GridSearchCV(estimator=SGD, param_grid=sgd_param_grid, cv=5, scoring='accuracy',n_jobs=4, verbose=1 )\n",
    "GS_SGD.fit(X_train, Y_train)"
   ]
  },
  {
   "cell_type": "code",
   "execution_count": null,
   "metadata": {},
   "outputs": [],
   "source": [
    "# https://www.kaggle.com/nsrose7224/sgdclassifier\n",
    "# GridSearchCV will run all the combinations of all those parameters to find out which provides \n",
    "# the best accuracy. \n",
    "# best_estimator_ will print the parameters used to achieve the best_score_.\n",
    "# print(GS_SGD.best_estimator_) la memê chose que best_params_ en moins complet\n",
    "print(GS_SGD.best_params_)\n",
    "print(GS_SGD.best_score_)\n",
    "# GridSearchCV object has no attribute 'coef_  'intercept_'\n",
    "\n",
    "\n"
   ]
  },
  {
   "cell_type": "code",
   "execution_count": null,
   "metadata": {},
   "outputs": [],
   "source": [
    "y_train_pred = GS_SGD.predict(X_train)"
   ]
  },
  {
   "cell_type": "code",
   "execution_count": null,
   "metadata": {},
   "outputs": [],
   "source": [
    "y_train_pred"
   ]
  },
  {
   "cell_type": "code",
   "execution_count": null,
   "metadata": {},
   "outputs": [],
   "source": [
    "# evaluation\n",
    "from sklearn.metrics import confusion_matrix, accuracy_score, precision_score, recall_score\n",
    "\n",
    "cm = confusion_matrix(Y_train, y_train_pred)\n",
    "#print(cm)\n",
    "plot_confusion_matrix(cm, [\"0\", \"1\"])\n",
    "print(\"Accuracy train {}\".format(accuracy_score(Y_train, y_train_pred)))\n",
    "print(\"Precision train {}\".format(precision_score(Y_train, y_train_pred)))\n",
    "print(\"Recall train {}\".format(recall_score(Y_train, y_train_pred)))"
   ]
  }
 ],
 "metadata": {
  "colab": {
   "collapsed_sections": [],
   "name": "WalkSessionsClassificationV1_5.ipynb",
   "provenance": []
  },
  "kernelspec": {
   "display_name": "Python 3",
   "language": "python",
   "name": "python3"
  },
  "language_info": {
   "codemirror_mode": {
    "name": "ipython",
    "version": 3
   },
   "file_extension": ".py",
   "mimetype": "text/x-python",
   "name": "python",
   "nbconvert_exporter": "python",
   "pygments_lexer": "ipython3",
   "version": "3.8.3"
  }
 },
 "nbformat": 4,
 "nbformat_minor": 1
}

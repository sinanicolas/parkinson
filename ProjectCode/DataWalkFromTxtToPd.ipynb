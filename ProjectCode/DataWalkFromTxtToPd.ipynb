{
 "cells": [
  {
   "cell_type": "code",
   "execution_count": 1,
   "metadata": {
    "_cell_guid": "b1076dfc-b9ad-4769-8c92-a6c4dae69d19",
    "_uuid": "8f2839f25d086af736a60e9eeb907d3b93b6e0e5"
   },
   "outputs": [],
   "source": [
    "import numpy as np \n",
    "import pandas as pd \n",
    "import os"
   ]
  },
  {
   "cell_type": "markdown",
   "metadata": {},
   "source": [
    "## Fonctions utiles"
   ]
  },
  {
   "cell_type": "markdown",
   "metadata": {},
   "source": [
    "# Chargement du jeu de données"
   ]
  },
  {
   "cell_type": "code",
   "execution_count": 2,
   "metadata": {},
   "outputs": [],
   "source": [
    "def read_data(data_path):\n",
    "    columns_names_data = [\"AccX\", \"AccY\", \"AccZ\", \"GyrX\", \"GyrY\", \"GyrZ\"]\n",
    "    columns_names_data_tmp = {0 : \"AccX\", 1 : \"AccY\", 2 : \"AccZ\", 3 : \"GyrX\", 4 : \"GyrY\", 5 : \"GyrZ\"} \n",
    "    data = pd.DataFrame(columns = columns_names_data)\n",
    "    \n",
    "    file_names = os.listdir(data_path)\n",
    "    file_names.sort(key=lambda x:int(x[:-4]))\n",
    "    \n",
    "    for file_name in file_names:\n",
    "        file_path = os.path.join(data_path, file_name)\n",
    "        data_tmp = pd.read_csv(file_path, sep=\" \",header=None,decimal=\",\")\n",
    "        data_tmp.drop(labels=[6], axis=1, inplace=True)\n",
    "        data_tmp.rename(columns=columns_names_data_tmp, inplace=True)\n",
    "        data = data.append(data_tmp,ignore_index=True)\n",
    "    return (data)\n",
    "\n",
    "def read_label(labels_path):\n",
    "    columns_names_labels = [\"Walk\"]\n",
    "    columns_names_labels_tmp = {0 : \"Walk\"} \n",
    "    labels = pd.DataFrame(columns = columns_names_labels)\n",
    "    \n",
    "    file_names = os.listdir(labels_path)\n",
    "    file_names.sort(key=lambda x:int(x[:-10]))\n",
    "    \n",
    "    for file_name in file_names:\n",
    "        file_path = os.path.join(labels_path, file_name)\n",
    "        labels_tmp = pd.read_csv(file_path, sep=\" \",header=None)\n",
    "        labels_tmp.rename(columns=columns_names_labels_tmp, inplace=True)\n",
    "        labels = labels.append(labels_tmp,ignore_index=True)\n",
    "    return (labels)"
   ]
  },
  {
   "cell_type": "code",
   "execution_count": 3,
   "metadata": {},
   "outputs": [
    {
     "name": "stdout",
     "output_type": "stream",
     "text": [
      "***** Forme des donnéees récupérées **********************\n",
      "<class 'pandas.core.frame.DataFrame'> (531456, 6) \n",
      "<class 'pandas.core.frame.DataFrame'> (531456, 1) \n",
      "<class 'pandas.core.frame.DataFrame'> (531456, 6) \n",
      "<class 'pandas.core.frame.DataFrame'> (531456, 1) \n"
     ]
    }
   ],
   "source": [
    "path = r\"\"\"C:\\Users\\tpailhas\\MIASHS\\TER\\Parkinson\\Dataset\\Gait-Datasets-TIFS20\\Dataset7\"\"\"\n",
    "\n",
    "train_data_path = rf\"\"\"{path}\\train\\train_data\"\"\" \n",
    "train_label_path = rf\"\"\"{path}\\train\\train_label\"\"\"\n",
    "X_train = read_data(train_data_path)\n",
    "Y_train = read_label(train_label_path)\n",
    "\n",
    "test_data_path = rf\"\"\"{path}\\test\\test_data\"\"\"\n",
    "test_label_path = rf\"\"\"{path}\\test\\test_label\"\"\"\n",
    "X_test = read_data(test_data_path)\n",
    "Y_test = read_label(test_label_path)\n",
    "\n",
    "print(\"\"\"***** Forme des donnéees récupérées **********************\"\"\")\n",
    "print(f\"\"\"{type(X_train)} {X_train.shape} \"\"\")\n",
    "print(f\"\"\"{type(Y_train)} {Y_train.shape} \"\"\")\n",
    "print(f\"\"\"{type(X_test)} {X_train.shape} \"\"\")\n",
    "print(f\"\"\"{type(Y_test)} {Y_train.shape} \"\"\")\n"
   ]
  },
  {
   "cell_type": "code",
   "execution_count": 4,
   "metadata": {},
   "outputs": [
    {
     "data": {
      "text/html": [
       "<div>\n",
       "<style scoped>\n",
       "    .dataframe tbody tr th:only-of-type {\n",
       "        vertical-align: middle;\n",
       "    }\n",
       "\n",
       "    .dataframe tbody tr th {\n",
       "        vertical-align: top;\n",
       "    }\n",
       "\n",
       "    .dataframe thead th {\n",
       "        text-align: right;\n",
       "    }\n",
       "</style>\n",
       "<table border=\"1\" class=\"dataframe\">\n",
       "  <thead>\n",
       "    <tr style=\"text-align: right;\">\n",
       "      <th></th>\n",
       "      <th>AccX</th>\n",
       "      <th>AccY</th>\n",
       "      <th>AccZ</th>\n",
       "      <th>GyrX</th>\n",
       "      <th>GyrY</th>\n",
       "      <th>GyrZ</th>\n",
       "    </tr>\n",
       "  </thead>\n",
       "  <tbody>\n",
       "    <tr>\n",
       "      <th>0</th>\n",
       "      <td>5.94531</td>\n",
       "      <td>4.35938</td>\n",
       "      <td>7.28516</td>\n",
       "      <td>0.275635</td>\n",
       "      <td>0.072632</td>\n",
       "      <td>0.369629</td>\n",
       "    </tr>\n",
       "    <tr>\n",
       "      <th>1</th>\n",
       "      <td>5.84766</td>\n",
       "      <td>4.39844</td>\n",
       "      <td>7.22656</td>\n",
       "      <td>0.197144</td>\n",
       "      <td>0.109314</td>\n",
       "      <td>0.319336</td>\n",
       "    </tr>\n",
       "    <tr>\n",
       "      <th>2</th>\n",
       "      <td>5.94531</td>\n",
       "      <td>4.45703</td>\n",
       "      <td>7.1875</td>\n",
       "      <td>0.2771</td>\n",
       "      <td>0.160034</td>\n",
       "      <td>0.284424</td>\n",
       "    </tr>\n",
       "    <tr>\n",
       "      <th>3</th>\n",
       "      <td>5.88672</td>\n",
       "      <td>4.4375</td>\n",
       "      <td>7.1875</td>\n",
       "      <td>0.22998</td>\n",
       "      <td>0.14856</td>\n",
       "      <td>0.281982</td>\n",
       "    </tr>\n",
       "    <tr>\n",
       "      <th>4</th>\n",
       "      <td>5.88672</td>\n",
       "      <td>4.39844</td>\n",
       "      <td>7.14844</td>\n",
       "      <td>0.231445</td>\n",
       "      <td>0.121582</td>\n",
       "      <td>0.246582</td>\n",
       "    </tr>\n",
       "  </tbody>\n",
       "</table>\n",
       "</div>"
      ],
      "text/plain": [
       "      AccX     AccY     AccZ      GyrX      GyrY      GyrZ\n",
       "0  5.94531  4.35938  7.28516  0.275635  0.072632  0.369629\n",
       "1  5.84766  4.39844  7.22656  0.197144  0.109314  0.319336\n",
       "2  5.94531  4.45703   7.1875    0.2771  0.160034  0.284424\n",
       "3  5.88672   4.4375   7.1875   0.22998   0.14856  0.281982\n",
       "4  5.88672  4.39844  7.14844  0.231445  0.121582  0.246582"
      ]
     },
     "execution_count": 4,
     "metadata": {},
     "output_type": "execute_result"
    }
   ],
   "source": [
    "X_train.head()"
   ]
  },
  {
   "cell_type": "code",
   "execution_count": 5,
   "metadata": {},
   "outputs": [
    {
     "data": {
      "text/plain": [
       "AccX    object\n",
       "AccY    object\n",
       "AccZ    object\n",
       "GyrX    object\n",
       "GyrY    object\n",
       "GyrZ    object\n",
       "dtype: object"
      ]
     },
     "execution_count": 5,
     "metadata": {},
     "output_type": "execute_result"
    }
   ],
   "source": [
    "X_train.dtypes"
   ]
  },
  {
   "cell_type": "code",
   "execution_count": 6,
   "metadata": {},
   "outputs": [],
   "source": [
    "#Problème: on doit convertir les types object en float64\n",
    "#https://stackoverflow.com/questions/28277137/how-to-convert-datatypeobject-to-float64-in-python\n",
    "#Since version 0.17.0 convert_objects is deprecated and there isn't a top-level function to do this so you need to do:\n",
    "X_train = X_train.apply(lambda col:pd.to_numeric(col, errors='coerce'))"
   ]
  },
  {
   "cell_type": "code",
   "execution_count": 7,
   "metadata": {},
   "outputs": [
    {
     "data": {
      "text/plain": [
       "AccX    float64\n",
       "AccY    float64\n",
       "AccZ    float64\n",
       "GyrX    float64\n",
       "GyrY    float64\n",
       "GyrZ    float64\n",
       "dtype: object"
      ]
     },
     "execution_count": 7,
     "metadata": {},
     "output_type": "execute_result"
    }
   ],
   "source": [
    "X_train.dtypes"
   ]
  },
  {
   "cell_type": "code",
   "execution_count": 8,
   "metadata": {},
   "outputs": [
    {
     "data": {
      "text/html": [
       "<div>\n",
       "<style scoped>\n",
       "    .dataframe tbody tr th:only-of-type {\n",
       "        vertical-align: middle;\n",
       "    }\n",
       "\n",
       "    .dataframe tbody tr th {\n",
       "        vertical-align: top;\n",
       "    }\n",
       "\n",
       "    .dataframe thead th {\n",
       "        text-align: right;\n",
       "    }\n",
       "</style>\n",
       "<table border=\"1\" class=\"dataframe\">\n",
       "  <thead>\n",
       "    <tr style=\"text-align: right;\">\n",
       "      <th></th>\n",
       "      <th>Walk</th>\n",
       "    </tr>\n",
       "  </thead>\n",
       "  <tbody>\n",
       "    <tr>\n",
       "      <th>0</th>\n",
       "      <td>0</td>\n",
       "    </tr>\n",
       "    <tr>\n",
       "      <th>1</th>\n",
       "      <td>0</td>\n",
       "    </tr>\n",
       "    <tr>\n",
       "      <th>2</th>\n",
       "      <td>0</td>\n",
       "    </tr>\n",
       "    <tr>\n",
       "      <th>3</th>\n",
       "      <td>0</td>\n",
       "    </tr>\n",
       "    <tr>\n",
       "      <th>4</th>\n",
       "      <td>0</td>\n",
       "    </tr>\n",
       "  </tbody>\n",
       "</table>\n",
       "</div>"
      ],
      "text/plain": [
       "  Walk\n",
       "0    0\n",
       "1    0\n",
       "2    0\n",
       "3    0\n",
       "4    0"
      ]
     },
     "execution_count": 8,
     "metadata": {},
     "output_type": "execute_result"
    }
   ],
   "source": [
    "Y_train.head()"
   ]
  },
  {
   "cell_type": "code",
   "execution_count": 9,
   "metadata": {},
   "outputs": [
    {
     "data": {
      "text/plain": [
       "Walk    object\n",
       "dtype: object"
      ]
     },
     "execution_count": 9,
     "metadata": {},
     "output_type": "execute_result"
    }
   ],
   "source": [
    "Y_train.dtypes"
   ]
  },
  {
   "cell_type": "code",
   "execution_count": 10,
   "metadata": {},
   "outputs": [],
   "source": [
    "#Problème: on doit convertir les types object en float64\n",
    "#https://stackoverflow.com/questions/28277137/how-to-convert-datatypeobject-to-float64-in-python\n",
    "#Since version 0.17.0 convert_objects is deprecated and there isn't a top-level function to do this so you need to do:\n",
    "Y_train = Y_train.apply(lambda col:pd.to_numeric(col, errors='coerce'))"
   ]
  },
  {
   "cell_type": "code",
   "execution_count": 11,
   "metadata": {},
   "outputs": [
    {
     "data": {
      "text/plain": [
       "Walk    int64\n",
       "dtype: object"
      ]
     },
     "execution_count": 11,
     "metadata": {},
     "output_type": "execute_result"
    }
   ],
   "source": [
    "Y_train.dtypes"
   ]
  },
  {
   "cell_type": "code",
   "execution_count": 16,
   "metadata": {},
   "outputs": [],
   "source": [
    "X_train.to_csv('X_train.csv',index=False,sep=';') \n",
    "Y_train.to_csv('Y_train.csv',index=False,sep=';') "
   ]
  },
  {
   "cell_type": "code",
   "execution_count": 17,
   "metadata": {},
   "outputs": [
    {
     "data": {
      "text/html": [
       "<div>\n",
       "<style scoped>\n",
       "    .dataframe tbody tr th:only-of-type {\n",
       "        vertical-align: middle;\n",
       "    }\n",
       "\n",
       "    .dataframe tbody tr th {\n",
       "        vertical-align: top;\n",
       "    }\n",
       "\n",
       "    .dataframe thead th {\n",
       "        text-align: right;\n",
       "    }\n",
       "</style>\n",
       "<table border=\"1\" class=\"dataframe\">\n",
       "  <thead>\n",
       "    <tr style=\"text-align: right;\">\n",
       "      <th></th>\n",
       "      <th>AccX</th>\n",
       "      <th>AccY</th>\n",
       "      <th>AccZ</th>\n",
       "      <th>GyrX</th>\n",
       "      <th>GyrY</th>\n",
       "      <th>GyrZ</th>\n",
       "    </tr>\n",
       "  </thead>\n",
       "  <tbody>\n",
       "    <tr>\n",
       "      <th>0</th>\n",
       "      <td>-9.32813</td>\n",
       "      <td>-0.506348</td>\n",
       "      <td>1.67773</td>\n",
       "      <td>-0.03714</td>\n",
       "      <td>0.079285</td>\n",
       "      <td>0.447266</td>\n",
       "    </tr>\n",
       "    <tr>\n",
       "      <th>1</th>\n",
       "      <td>-9.54688</td>\n",
       "      <td>-0.564941</td>\n",
       "      <td>1.75586</td>\n",
       "      <td>-0.202271</td>\n",
       "      <td>0.016342</td>\n",
       "      <td>0.42041</td>\n",
       "    </tr>\n",
       "    <tr>\n",
       "      <th>2</th>\n",
       "      <td>-9.28906</td>\n",
       "      <td>-0.663086</td>\n",
       "      <td>1.67773</td>\n",
       "      <td>0.042145</td>\n",
       "      <td>-0.065369</td>\n",
       "      <td>0.273682</td>\n",
       "    </tr>\n",
       "    <tr>\n",
       "      <th>3</th>\n",
       "      <td>-9.375</td>\n",
       "      <td>-0.682617</td>\n",
       "      <td>1.48144</td>\n",
       "      <td>-0.029068</td>\n",
       "      <td>-0.067993</td>\n",
       "      <td>0.062012</td>\n",
       "    </tr>\n",
       "    <tr>\n",
       "      <th>4</th>\n",
       "      <td>-9.23438</td>\n",
       "      <td>-0.820312</td>\n",
       "      <td>1.01074</td>\n",
       "      <td>0.086609</td>\n",
       "      <td>-0.164185</td>\n",
       "      <td>-0.326904</td>\n",
       "    </tr>\n",
       "  </tbody>\n",
       "</table>\n",
       "</div>"
      ],
      "text/plain": [
       "       AccX       AccY     AccZ       GyrX       GyrY       GyrZ\n",
       "0  -9.32813  -0.506348  1.67773   -0.03714   0.079285   0.447266\n",
       "1  -9.54688  -0.564941  1.75586  -0.202271   0.016342    0.42041\n",
       "2  -9.28906  -0.663086  1.67773   0.042145  -0.065369   0.273682\n",
       "3    -9.375  -0.682617  1.48144  -0.029068  -0.067993   0.062012\n",
       "4  -9.23438  -0.820312  1.01074   0.086609  -0.164185  -0.326904"
      ]
     },
     "execution_count": 17,
     "metadata": {},
     "output_type": "execute_result"
    }
   ],
   "source": [
    "X_test.head()"
   ]
  },
  {
   "cell_type": "code",
   "execution_count": 18,
   "metadata": {},
   "outputs": [
    {
     "data": {
      "text/plain": [
       "AccX    object\n",
       "AccY    object\n",
       "AccZ    object\n",
       "GyrX    object\n",
       "GyrY    object\n",
       "GyrZ    object\n",
       "dtype: object"
      ]
     },
     "execution_count": 18,
     "metadata": {},
     "output_type": "execute_result"
    }
   ],
   "source": [
    "X_test.dtypes"
   ]
  },
  {
   "cell_type": "code",
   "execution_count": 19,
   "metadata": {},
   "outputs": [],
   "source": [
    "#Problème: on doit convertir les types object en float64\n",
    "#https://stackoverflow.com/questions/28277137/how-to-convert-datatypeobject-to-float64-in-python\n",
    "#Since version 0.17.0 convert_objects is deprecated and there isn't a top-level function to do this so you need to do:\n",
    "X_test = X_test.apply(lambda col:pd.to_numeric(col, errors='coerce'))"
   ]
  },
  {
   "cell_type": "code",
   "execution_count": 20,
   "metadata": {},
   "outputs": [
    {
     "data": {
      "text/plain": [
       "AccX    float64\n",
       "AccY    float64\n",
       "AccZ    float64\n",
       "GyrX    float64\n",
       "GyrY    float64\n",
       "GyrZ    float64\n",
       "dtype: object"
      ]
     },
     "execution_count": 20,
     "metadata": {},
     "output_type": "execute_result"
    }
   ],
   "source": [
    "X_test.dtypes"
   ]
  },
  {
   "cell_type": "code",
   "execution_count": 21,
   "metadata": {},
   "outputs": [
    {
     "data": {
      "text/html": [
       "<div>\n",
       "<style scoped>\n",
       "    .dataframe tbody tr th:only-of-type {\n",
       "        vertical-align: middle;\n",
       "    }\n",
       "\n",
       "    .dataframe tbody tr th {\n",
       "        vertical-align: top;\n",
       "    }\n",
       "\n",
       "    .dataframe thead th {\n",
       "        text-align: right;\n",
       "    }\n",
       "</style>\n",
       "<table border=\"1\" class=\"dataframe\">\n",
       "  <thead>\n",
       "    <tr style=\"text-align: right;\">\n",
       "      <th></th>\n",
       "      <th>Walk</th>\n",
       "    </tr>\n",
       "  </thead>\n",
       "  <tbody>\n",
       "    <tr>\n",
       "      <th>0</th>\n",
       "      <td>0</td>\n",
       "    </tr>\n",
       "    <tr>\n",
       "      <th>1</th>\n",
       "      <td>0</td>\n",
       "    </tr>\n",
       "    <tr>\n",
       "      <th>2</th>\n",
       "      <td>0</td>\n",
       "    </tr>\n",
       "    <tr>\n",
       "      <th>3</th>\n",
       "      <td>0</td>\n",
       "    </tr>\n",
       "    <tr>\n",
       "      <th>4</th>\n",
       "      <td>0</td>\n",
       "    </tr>\n",
       "  </tbody>\n",
       "</table>\n",
       "</div>"
      ],
      "text/plain": [
       "  Walk\n",
       "0    0\n",
       "1    0\n",
       "2    0\n",
       "3    0\n",
       "4    0"
      ]
     },
     "execution_count": 21,
     "metadata": {},
     "output_type": "execute_result"
    }
   ],
   "source": [
    "Y_test.head()"
   ]
  },
  {
   "cell_type": "code",
   "execution_count": 22,
   "metadata": {},
   "outputs": [
    {
     "data": {
      "text/plain": [
       "Walk    object\n",
       "dtype: object"
      ]
     },
     "execution_count": 22,
     "metadata": {},
     "output_type": "execute_result"
    }
   ],
   "source": [
    "Y_test.dtypes"
   ]
  },
  {
   "cell_type": "code",
   "execution_count": 23,
   "metadata": {},
   "outputs": [],
   "source": [
    "#Problème: on doit convertir les types object en float64\n",
    "#https://stackoverflow.com/questions/28277137/how-to-convert-datatypeobject-to-float64-in-python\n",
    "#Since version 0.17.0 convert_objects is deprecated and there isn't a top-level function to do this so you need to do:\n",
    "Y_test = Y_test.apply(lambda col:pd.to_numeric(col, errors='coerce'))"
   ]
  },
  {
   "cell_type": "code",
   "execution_count": 24,
   "metadata": {},
   "outputs": [
    {
     "data": {
      "text/plain": [
       "Walk    int64\n",
       "dtype: object"
      ]
     },
     "execution_count": 24,
     "metadata": {},
     "output_type": "execute_result"
    }
   ],
   "source": [
    "Y_test.dtypes"
   ]
  },
  {
   "cell_type": "code",
   "execution_count": 25,
   "metadata": {},
   "outputs": [],
   "source": [
    "X_test.to_csv('X_test.csv',index=False,sep=';') \n",
    "Y_test.to_csv('Y_test.csv',index=False,sep=';') "
   ]
  }
 ],
 "metadata": {
  "kernelspec": {
   "display_name": "Python 3",
   "language": "python",
   "name": "python3"
  },
  "language_info": {
   "codemirror_mode": {
    "name": "ipython",
    "version": 3
   },
   "file_extension": ".py",
   "mimetype": "text/x-python",
   "name": "python",
   "nbconvert_exporter": "python",
   "pygments_lexer": "ipython3",
   "version": "3.8.3"
  }
 },
 "nbformat": 4,
 "nbformat_minor": 1
}
